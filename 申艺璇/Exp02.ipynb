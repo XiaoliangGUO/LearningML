{
 "cells": [
  {
   "cell_type": "code",
   "execution_count": 1,
   "metadata": {},
   "outputs": [
    {
     "name": "stdout",
     "output_type": "stream",
     "text": [
      "当前目录路径： C:\\Users\\sheny\\PythonLearning\n",
      "文件数量： 6\n",
      "文件夹数量： 1\n"
     ]
    }
   ],
   "source": [
    "import os\n",
    "def stat(specpath,showhidden=False):\n",
    "    print('当前目录路径：',specpath)\n",
    "    dirnum = 0\n",
    "    filenum = 0\n",
    "    files = os.listdir(specpath)\n",
    "    for f in files:\n",
    "        if os.path.isfile(specpath + '/' + f):\n",
    "            filenum +=1\n",
    "        if os.path.isdir(specpath+'/'+f):\n",
    "            dirnum += 1\n",
    "    print('文件数量：',filenum)  \n",
    "    print('文件夹数量：', dirnum)   \n",
    "    return\n",
    "\n",
    "specpath = os.getcwd()\n",
    "stat(specpath)\n",
    "       "
   ]
  }
 ],
 "metadata": {
  "kernelspec": {
   "display_name": "Python 3",
   "language": "python",
   "name": "python3"
  },
  "language_info": {
   "codemirror_mode": {
    "name": "ipython",
    "version": 3
   },
   "file_extension": ".py",
   "mimetype": "text/x-python",
   "name": "python",
   "nbconvert_exporter": "python",
   "pygments_lexer": "ipython3",
   "version": "3.7.3"
  }
 },
 "nbformat": 4,
 "nbformat_minor": 2
}
