{
 "cells": [
  {
   "cell_type": "code",
   "execution_count": 23,
   "metadata": {},
   "outputs": [],
   "source": [
    "import csv\n",
    "def repPosition(inputfile,speccolumn,fromcontent,tocontent,saveto):\n",
    "    data = []\n",
    "    with open(inputfile,'r') as fi:\n",
    "        csv_file = csv.reader(fi)\n",
    "        for row in csv_file:\n",
    "            data.append(row)\n",
    "    with open(saveto,'w', newline=\"\") as fo:\n",
    "        outputfile = csv.writer(fo)\n",
    "        for line in data:\n",
    "            if (line[speccolumn-1]==fromcontent):\n",
    "                line[speccolumn-1]=tocontent\n",
    "                outputfile.writerow(line)\n",
    "            else:\n",
    "                outputfile.writerow(line)\n",
    "    return"
   ]
  }
 ],
 "metadata": {
  "kernelspec": {
   "display_name": "Python 3",
   "language": "python",
   "name": "python3"
  },
  "language_info": {
   "codemirror_mode": {
    "name": "ipython",
    "version": 3
   },
   "file_extension": ".py",
   "mimetype": "text/x-python",
   "name": "python",
   "nbconvert_exporter": "python",
   "pygments_lexer": "ipython3",
   "version": "3.7.3"
  }
 },
 "nbformat": 4,
 "nbformat_minor": 2
}
