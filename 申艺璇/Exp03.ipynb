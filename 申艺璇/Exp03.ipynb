{
 "cells": [
  {
   "cell_type": "code",
   "execution_count": 8,
   "metadata": {},
   "outputs": [
    {
     "name": "stdout",
     "output_type": "stream",
     "text": [
      "文件数量： 6\n",
      "文件夹数量： 1\n"
     ]
    }
   ],
   "source": [
    "import os\n",
    "class countnum:\n",
    "    def __init__(self,specpath):\n",
    "        self.path = specpath\n",
    "        \n",
    "    def stat(self):\n",
    "        dirnum = 0\n",
    "        filenum = 0        \n",
    "        for f in os.listdir(self.path):\n",
    "            if os.path.isfile(self.path + '/' + f):\n",
    "                filenum +=1\n",
    "            if os.path.isdir(self.path+'/'+f):\n",
    "                    dirnum += 1\n",
    "        print('文件数量：',filenum) \n",
    "        print('文件夹数量：', dirnum)    \n",
    "    \n",
    "specpath = os.getcwd()\n",
    "pp = countnum(specpath)\n",
    "pp.stat()"
   ]
  }
 ],
 "metadata": {
  "kernelspec": {
   "display_name": "Python 3",
   "language": "python",
   "name": "python3"
  },
  "language_info": {
   "codemirror_mode": {
    "name": "ipython",
    "version": 3
   },
   "file_extension": ".py",
   "mimetype": "text/x-python",
   "name": "python",
   "nbconvert_exporter": "python",
   "pygments_lexer": "ipython3",
   "version": "3.7.3"
  }
 },
 "nbformat": 4,
 "nbformat_minor": 2
}
