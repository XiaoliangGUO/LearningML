{
 "cells": [
  {
   "cell_type": "markdown",
   "metadata": {},
   "source": [
    "# 作业1：给定一个CSV文件，将里面指定列的指定内容替换成另外的内容，并保存到指定文件夹"
   ]
  },
  {
   "cell_type": "code",
   "execution_count": 1,
   "metadata": {},
   "outputs": [],
   "source": [
    "# coding: utf-8\n",
    "\n",
    "import pandas as pd\n",
    "def csv_repalce(input_file,spec_column,from_content,to_content,save_to):\n",
    "    f=open(input_file)\n",
    "    data=pd.read_csv(f)\n",
    "    read=data[data[spec_column]<=from_content].index.values##将小于等于40的部分归0\n",
    "    \n",
    "    for i in read:\n",
    "        data.loc[i][spec_column]=to_content\n",
    "    \n",
    "    data.to_csv(save_to,index=False,encoding=\"utf_8_sig\")\n",
    "\n",
    "csv_repalce(\"q49_p7.75_up.csv\",'Nu',40,0,\"results_q49_p7.75_up.csv\")\n"
   ]
  },
  {
   "cell_type": "markdown",
   "metadata": {},
   "source": [
    "# 作业2：统计某个指定文件夹下的文件数量和文件夹数量，并且需要考虑隐藏文件。"
   ]
  },
  {
   "cell_type": "code",
   "execution_count": 1,
   "metadata": {},
   "outputs": [
    {
     "name": "stdout",
     "output_type": "stream",
     "text": [
      "文件总数：0:\n",
      "[]\n",
      "文件夹总数：0:\n",
      "[]\n"
     ]
    }
   ],
   "source": [
    "import os\n",
    "import win32file\n",
    "import win32con\n",
    "\n",
    "def file_count(spec_directory,show_hidden=False):\n",
    "    dirnum = 0\n",
    "    filenum = 0\n",
    "    dirs=[]\n",
    "    files=[]\n",
    "    for lists in os.listdir(spec_directory):\n",
    "        sub_path = os.path.join(spec_directory, lists)\n",
    "        flag=win32file.GetFileAttributes(spec_directory+'\\\\'+lists)\n",
    "        is_hiden = flag & win32con.FILE_ATTRIBUTE_HIDDEN\n",
    "        if is_hiden and show_hidden==False:\n",
    "            continue\n",
    "        else:\n",
    "            if os.path.isfile(sub_path):\n",
    "                filenum+=1\n",
    "                files.append(lists)\n",
    "            else:\n",
    "                dirnum+=1\n",
    "                dirs.append(lists)\n",
    "    print(\"文件总数：%d:\"%filenum)\n",
    "    print(files)\n",
    "    print(\"文件夹总数：%d:\"%dirnum)\n",
    "    print(dirs)\n",
    "\n",
    "file_count(\"C:\\\\Users\\\\xzzz\\\\Python\",show_hidden=False)  "
   ]
  },
  {
   "cell_type": "markdown",
   "metadata": {},
   "source": [
    "# 作业3：将作业2的内容封装成一个类，show方法可以把里面的内容打印出来。"
   ]
  },
  {
   "cell_type": "code",
   "execution_count": 3,
   "metadata": {},
   "outputs": [
    {
     "name": "stdout",
     "output_type": "stream",
     "text": [
      "文件总数：27:\n",
      "['+++第1部分 基本语法2（控制语句）.ipynb', '+++第1部分 基本语法3（函数）.ipynb', '+++第1部分 基本语法4（模块与包）.ipynb', '+++第1部分 基本语法5（类与对象）.ipynb', '+++第1部分 基础语法（通讯录系统）.ipynb', '+++第2部分 数据分析（Numpy）.ipynb', '+++第2部分 数据分析（Pandas）.ipynb', '+++第2部分 数据分析（WordCloud）.ipynb', '+++第2部分 数据分析（文件）.ipynb', '+++第2部分 数据分析（爬虫）.ipynb', '+++第2部分 数据分析（电影Pandas）.ipynb', '+++第3部分 机器学习.ipynb', '+++第4部分 深度学习（autoencoder）.ipynb', '+++第4部分 深度学习（bidirectional_rnn）.ipynb', '+++第4部分 深度学习（Sklearn葡萄酒）.ipynb', '+++第4部分 深度学习（Tensorflow）.ipynb', 'Jupyter Notebook 添加目录(1).docx', 'MNIST_data.zip', 'Mnist通俗理解.pdf', 'Python学习笔记-王纯业.pdf', '第1部分 基本语法.pdf', '第1部分 基本语法1.ipynb', '第2部分 数据分析.pdf', '第2部分 数据分析.pptx', '第3部分 机器学习.pdf', '第3部分 机器学习.pptx', '第4部分 深度学习.pdf']\n",
      "文件夹总数：2:\n",
      "['.ipynb_checkpoints', '曹玉立code']\n"
     ]
    }
   ],
   "source": [
    "class file_count:\n",
    "    def __init__(self, path):  \n",
    "        self.path=path \n",
    "    def show(self):\n",
    "        DIR=self.path\n",
    "        dirnum = 0\n",
    "        filenum = 0\n",
    "        dirs=[]\n",
    "        files=[]\n",
    "        for lists in os.listdir(DIR):\n",
    "            sub_path = os.path.join(DIR, lists)\n",
    "            flag=win32file.GetFileAttributes(DIR+'\\\\'+lists)\n",
    "            is_hiden = flag & win32con.FILE_ATTRIBUTE_HIDDEN\n",
    "            if is_hiden and show_hidden==False:\n",
    "                continue\n",
    "            else:\n",
    "                if os.path.isfile(sub_path):\n",
    "                    filenum+=1\n",
    "                    files.append(lists)\n",
    "                else:\n",
    "                    dirnum+=1\n",
    "                    dirs.append(lists)\n",
    "        print(\"文件总数：%d:\"%filenum)\n",
    "        print(files)\n",
    "        print(\"文件夹总数：%d:\"%dirnum)\n",
    "        print(dirs)\n",
    "        \n",
    "x=file_count(\"C:\\\\Users\\\\xzzz\\\\Python\")\n",
    "x.show()"
   ]
  },
  {
   "cell_type": "code",
   "execution_count": null,
   "metadata": {},
   "outputs": [],
   "source": []
  }
 ],
 "metadata": {
  "kernelspec": {
   "display_name": "Python 3",
   "language": "python",
   "name": "python3"
  },
  "language_info": {
   "codemirror_mode": {
    "name": "ipython",
    "version": 3
   },
   "file_extension": ".py",
   "mimetype": "text/x-python",
   "name": "python",
   "nbconvert_exporter": "python",
   "pygments_lexer": "ipython3",
   "version": "3.7.3"
  },
  "toc": {
   "base_numbering": 1,
   "nav_menu": {},
   "number_sections": true,
   "sideBar": true,
   "skip_h1_title": false,
   "title_cell": "Table of Contents",
   "title_sidebar": "Contents",
   "toc_cell": false,
   "toc_position": {},
   "toc_section_display": true,
   "toc_window_display": false
  }
 },
 "nbformat": 4,
 "nbformat_minor": 2
}
