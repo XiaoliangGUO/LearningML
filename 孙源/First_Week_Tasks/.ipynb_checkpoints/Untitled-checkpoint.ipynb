{
 "cells": [
  {
   "cell_type": "code",
   "execution_count": null,
   "metadata": {},
   "outputs": [],
   "source": [
    "import netCDF4\n",
    "from netCDF4 import Dataset\n",
    "import numpy as np\n",
    "import matplotlib.pyplot as plt\n",
    "from mpl_toolkits.basemap import Basemap\n",
    "nc_obj=Dataset('./NCEP1949-2017.nc')\n",
    "#查看nc文件有些啥东东\n",
    "print(nc_obj)\n",
    "print('---------------------------------------')\n",
    "#查看nc文件中的变量\n",
    "print(nc_obj.variables.keys())\n",
    "for i in nc_obj.variables.keys():\n",
    "    print(i)\n",
    "print('---------------------------------------')\n",
    "#查看每个变量的信息\n",
    "print(nc_obj.variables['lat'])\n",
    "print(nc_obj.variables['lon'])\n",
    "print(nc_obj.variables['uwnd'])\n",
    "print('---------------------------------------')\n",
    "#查看每个变量的属性\n",
    "print(nc_obj.variables['lat'].ncattrs())\n",
    "print(nc_obj.variables['lon'].ncattrs())"
   ]
  }
 ],
 "metadata": {
  "kernelspec": {
   "display_name": "Python 3",
   "language": "python",
   "name": "python3"
  },
  "language_info": {
   "codemirror_mode": {
    "name": "ipython",
    "version": 3
   },
   "file_extension": ".py",
   "mimetype": "text/x-python",
   "name": "python",
   "nbconvert_exporter": "python",
   "pygments_lexer": "ipython3",
   "version": "3.6.5"
  }
 },
 "nbformat": 4,
 "nbformat_minor": 2
}
